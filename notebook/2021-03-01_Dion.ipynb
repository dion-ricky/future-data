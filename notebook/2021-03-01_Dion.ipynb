{
 "cells": [
  {
   "cell_type": "code",
   "execution_count": 1,
   "id": "speaking-square",
   "metadata": {},
   "outputs": [],
   "source": [
    "from util import DbConn\n",
    "import pandas as pd"
   ]
  },
  {
   "cell_type": "code",
   "execution_count": 2,
   "id": "vocal-hawaii",
   "metadata": {},
   "outputs": [],
   "source": [
    "ecommerce_conn = DbConn().get_conn()"
   ]
  },
  {
   "cell_type": "code",
   "execution_count": 3,
   "id": "breathing-fleece",
   "metadata": {},
   "outputs": [],
   "source": [
    "order_df = pd.read_sql('SELECT * FROM \"order\" LIMIT 100', con=ecommerce_conn)"
   ]
  },
  {
   "cell_type": "code",
   "execution_count": 4,
   "id": "awful-birthday",
   "metadata": {},
   "outputs": [
    {
     "name": "stdout",
     "output_type": "stream",
     "text": [
      "<class 'pandas.core.frame.DataFrame'>\n",
      "RangeIndex: 100 entries, 0 to 99\n",
      "Data columns (total 8 columns):\n",
      " #   Column                   Non-Null Count  Dtype         \n",
      "---  ------                   --------------  -----         \n",
      " 0   order_id                 100 non-null    object        \n",
      " 1   user_name                100 non-null    object        \n",
      " 2   order_status             100 non-null    object        \n",
      " 3   order_date               100 non-null    datetime64[ns]\n",
      " 4   order_approved_date      100 non-null    datetime64[ns]\n",
      " 5   pickup_date              99 non-null     datetime64[ns]\n",
      " 6   delivered_date           98 non-null     datetime64[ns]\n",
      " 7   estimated_time_delivery  100 non-null    datetime64[ns]\n",
      "dtypes: datetime64[ns](5), object(3)\n",
      "memory usage: 6.4+ KB\n"
     ]
    }
   ],
   "source": [
    "order_df.info()"
   ]
  }
 ],
 "metadata": {
  "kernelspec": {
   "display_name": "Python 3 (ipykernel)",
   "language": "python",
   "name": "python3"
  },
  "language_info": {
   "codemirror_mode": {
    "name": "ipython",
    "version": 3
   },
   "file_extension": ".py",
   "mimetype": "text/x-python",
   "name": "python",
   "nbconvert_exporter": "python",
   "pygments_lexer": "ipython3",
   "version": "3.8.10"
  }
 },
 "nbformat": 4,
 "nbformat_minor": 5
}
