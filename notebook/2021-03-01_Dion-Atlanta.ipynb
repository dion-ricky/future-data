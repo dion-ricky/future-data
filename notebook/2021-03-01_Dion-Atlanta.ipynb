{
 "cells": [
  {
   "cell_type": "code",
   "execution_count": 1,
   "id": "speaking-square",
   "metadata": {},
   "outputs": [],
   "source": [
    "from util import DbConn\n",
    "import pandas as pd"
   ]
  },
  {
   "cell_type": "code",
   "execution_count": 2,
   "id": "vocal-hawaii",
   "metadata": {},
   "outputs": [],
   "source": [
    "engine = DbConn().get_engine()"
   ]
  },
  {
   "cell_type": "code",
   "execution_count": 3,
   "id": "breathing-fleece",
   "metadata": {},
   "outputs": [],
   "source": [
    "order_df = pd.read_sql('SELECT * FROM \"order\"', engine)"
   ]
  },
  {
   "cell_type": "code",
   "execution_count": 4,
   "id": "awful-birthday",
   "metadata": {},
   "outputs": [
    {
     "name": "stdout",
     "output_type": "stream",
     "text": [
      "<class 'pandas.core.frame.DataFrame'>\n",
      "RangeIndex: 99441 entries, 0 to 99440\n",
      "Data columns (total 9 columns):\n",
      " #   Column                   Non-Null Count  Dtype         \n",
      "---  ------                   --------------  -----         \n",
      " 0   order_id                 99441 non-null  object        \n",
      " 1   user_id                  99441 non-null  int64         \n",
      " 2   user_name                99441 non-null  object        \n",
      " 3   order_status             99441 non-null  object        \n",
      " 4   order_date               99441 non-null  datetime64[ns]\n",
      " 5   order_approved_date      99281 non-null  datetime64[ns]\n",
      " 6   pickup_date              97658 non-null  datetime64[ns]\n",
      " 7   delivered_date           96476 non-null  datetime64[ns]\n",
      " 8   estimated_time_delivery  99441 non-null  datetime64[ns]\n",
      "dtypes: datetime64[ns](5), int64(1), object(3)\n",
      "memory usage: 6.8+ MB\n"
     ]
    }
   ],
   "source": [
    "order_df.info()"
   ]
  }
 ],
 "metadata": {
  "kernelspec": {
   "display_name": "Python 3",
   "language": "python",
   "name": "python3"
  },
  "language_info": {
   "codemirror_mode": {
    "name": "ipython",
    "version": 3
   },
   "file_extension": ".py",
   "mimetype": "text/x-python",
   "name": "python",
   "nbconvert_exporter": "python",
   "pygments_lexer": "ipython3",
   "version": "3.6.9"
  }
 },
 "nbformat": 4,
 "nbformat_minor": 5
}
