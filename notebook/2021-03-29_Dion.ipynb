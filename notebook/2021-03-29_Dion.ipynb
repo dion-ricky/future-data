{
 "cells": [
  {
   "cell_type": "markdown",
   "id": "identified-outreach",
   "metadata": {},
   "source": [
    "## Extract GeoJSON properties to csv\n",
    "Reference [#10](https://github.com/dion-ricky/future-data/issues/10)"
   ]
  },
  {
   "cell_type": "code",
   "execution_count": 1,
   "id": "abstract-canyon",
   "metadata": {},
   "outputs": [],
   "source": [
    "import json\n",
    "import pandas as pd"
   ]
  },
  {
   "cell_type": "code",
   "execution_count": 2,
   "id": "naughty-insured",
   "metadata": {},
   "outputs": [],
   "source": [
    "ID_GEOJSON = '../geojson/indonesia-updated.geojson'"
   ]
  },
  {
   "cell_type": "code",
   "execution_count": 3,
   "id": "sensitive-apartment",
   "metadata": {},
   "outputs": [],
   "source": [
    "IDGEO_PARSED = None\n",
    "IDGEO_PROPS = {\n",
    "        'cartodb_id': [],\n",
    "        'country': [],\n",
    "        'id_1': [],\n",
    "        'slug': [],\n",
    "        'state': []\n",
    "    }"
   ]
  },
  {
   "cell_type": "code",
   "execution_count": 4,
   "id": "valuable-bhutan",
   "metadata": {},
   "outputs": [],
   "source": [
    "with open(ID_GEOJSON, 'r') as _f:\n",
    "    IDGEO_PARSED = json.loads(_f.read())"
   ]
  },
  {
   "cell_type": "code",
   "execution_count": 5,
   "id": "amino-death",
   "metadata": {},
   "outputs": [],
   "source": [
    "for feature in IDGEO_PARSED['features']:\n",
    "    temp = feature['properties']\n",
    "    IDGEO_PROPS['cartodb_id'].append(temp['cartodb_id'])\n",
    "    IDGEO_PROPS['country'].append(temp['country'])\n",
    "    IDGEO_PROPS['id_1'].append(temp['id_1'])\n",
    "    IDGEO_PROPS['slug'].append(temp['slug'])\n",
    "    IDGEO_PROPS['state'].append(temp['state'])"
   ]
  },
  {
   "cell_type": "code",
   "execution_count": 6,
   "id": "unavailable-quest",
   "metadata": {},
   "outputs": [],
   "source": [
    "pd.DataFrame.from_dict(IDGEO_PROPS).to_csv('../datasets/indonesia-geoprops.csv', index=False)"
   ]
  }
 ],
 "metadata": {
  "kernelspec": {
   "display_name": "Python 3",
   "language": "python",
   "name": "python3"
  },
  "language_info": {
   "codemirror_mode": {
    "name": "ipython",
    "version": 3
   },
   "file_extension": ".py",
   "mimetype": "text/x-python",
   "name": "python",
   "nbconvert_exporter": "python",
   "pygments_lexer": "ipython3",
   "version": "3.6.9"
  }
 },
 "nbformat": 4,
 "nbformat_minor": 5
}
